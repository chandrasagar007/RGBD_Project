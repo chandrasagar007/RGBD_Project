{
 "cells": [
  {
   "cell_type": "code",
   "execution_count": 7,
   "metadata": {},
   "outputs": [
    {
     "name": "stderr",
     "output_type": "stream",
     "text": [
      "UsageError: Line magic function `%matplotlib.pyplot` not found.\n"
     ]
    }
   ],
   "source": [
    "import numpy as np\n",
    "import argparse\n",
    "import time\n",
    "import cv2\n",
    "import os\n",
    "import matplotlib.pyplot as plt\n",
    "import os\n",
    "%matplotlib.pyplot as plt"
   ]
  },
  {
   "cell_type": "code",
   "execution_count": 8,
   "metadata": {},
   "outputs": [],
   "source": [
    "CONFIDENCE = 0.9\n",
    "SCORE_THRESHOLD = 0.9\n",
    "IOU_THRESHOLD = 0.9\n",
    "\n",
    "# the neural network configuration\n",
    "config_path = \"/media/sagar/HDD1/IIIT_PGSSP/CV/Project/MY_OBJ_DETECTION_Y/object-detection-opencv-master/yolov3.cfg\"\n",
    "# the YOLO net weights file\n",
    "weights_path = \"/media/sagar/HDD1/IIIT_PGSSP/CV/Project/MY_OBJ_DETECTION_Y/object-detection-opencv-master/yolov3.weights\"\n",
    "# weights_path = \"weights/yolov3-tiny.weights\"\n",
    "\n",
    "# loading all the class labels (objects)\n",
    "labels = open(\"/media/sagar/HDD1/IIIT_PGSSP/CV/Project/MY_OBJ_DETECTION_Y/object-detection-opencv-master/darknet/data/coco.names\").read().strip().split(\"\\n\")\n",
    "# generating colors for each object for later plotting\n",
    "colors = np.random.randint(0, 255, size=(len(labels), 3), dtype=\"uint8\")"
   ]
  },
  {
   "cell_type": "code",
   "execution_count": 9,
   "metadata": {},
   "outputs": [],
   "source": [
    "# load the YOLO network\n",
    "net = cv2.dnn.readNetFromDarknet(config_path, weights_path)"
   ]
  },
  {
   "cell_type": "code",
   "execution_count": null,
   "metadata": {},
   "outputs": [],
   "source": []
  },
  {
   "cell_type": "code",
   "execution_count": 10,
   "metadata": {},
   "outputs": [
    {
     "name": "stdout",
     "output_type": "stream",
     "text": [
      "image.shape: (425, 560, 3)\n",
      "blob.shape: (1, 3, 416, 416)\n",
      "image.shape: (425, 560, 3)\n",
      "blob.shape: (1, 3, 416, 416)\n",
      "image.shape: (425, 560, 3)\n",
      "blob.shape: (1, 3, 416, 416)\n",
      "image.shape: (425, 560, 3)\n",
      "blob.shape: (1, 3, 416, 416)\n",
      "image.shape: (425, 560, 3)\n",
      "blob.shape: (1, 3, 416, 416)\n",
      "image.shape: (425, 560, 3)\n",
      "blob.shape: (1, 3, 416, 416)\n",
      "image.shape: (425, 560, 3)\n",
      "blob.shape: (1, 3, 416, 416)\n"
     ]
    }
   ],
   "source": [
    "for i in os.listdir(os.path.join('/media/sagar/HDD1/IIIT_PGSSP/CV/Project/MY_OBJ_DETECTION_Y/eccv14-data/sample_images')):\n",
    "    img = os.path.join('/media/sagar/HDD1/IIIT_PGSSP/CV/Project/MY_OBJ_DETECTION_Y/eccv14-data/sample_images',i)\n",
    "    image = cv2.imread(img)\n",
    "    file_name = os.path.basename(os.path.join('/media/sagar/HDD1/IIIT_PGSSP/CV/Project/MY_OBJ_DETECTION_Y/eccv14-data/sample_images',i))\n",
    "    filename, ext = file_name.split(\".\")\n",
    "    h, w = image.shape[:2]\n",
    "    # create 4D blob\n",
    "    blob = cv2.dnn.blobFromImage(image, 1/255.0, (416, 416), swapRB=True, crop=False)\n",
    "    print(\"image.shape:\", image.shape)\n",
    "    print(\"blob.shape:\", blob.shape)\n",
    "    image.shape: (1200, 1800, 3)\n",
    "    blob.shape: (1, 3, 416, 416)\n",
    "    # sets the blob as the input of the network\n",
    "    net.setInput(blob)\n",
    "    # get all the layer names\n",
    "    ln = net.getLayerNames()\n",
    "    ln = [ln[i[0] - 1] for i in net.getUnconnectedOutLayers()]\n",
    "    # feed forward (inference) and get the network output\n",
    "    # measure how much it took in seconds\n",
    "    start = time.perf_counter()\n",
    "    layer_outputs = net.forward(ln)\n",
    "    time_took = time.perf_counter() - start\n",
    "    font_scale = 1\n",
    "    thickness = 1\n",
    "    boxes, confidences, class_ids = [], [], []\n",
    "    # loop over each of the layer outputs\n",
    "    for output in layer_outputs:\n",
    "        # loop over each of the object detections\n",
    "        for detection in output:\n",
    "            # extract the class id (label) and confidence (as a probability) of\n",
    "            # the current object detection\n",
    "            scores = detection[5:]\n",
    "            class_id = np.argmax(scores)\n",
    "            confidence = scores[class_id]\n",
    "            # discard out weak predictions by ensuring the detected\n",
    "            # probability is greater than the minimum probability\n",
    "            if confidence > CONFIDENCE:\n",
    "                # scale the bounding box coordinates back relative to the\n",
    "                # size of the image, keeping in mind that YOLO actually\n",
    "                # returns the center (x, y)-coordinates of the bounding\n",
    "                # box followed by the boxes' width and height\n",
    "                box = detection[:4] * np.array([w, h, w, h])\n",
    "                (centerX, centerY, width, height) = box.astype(\"int\")\n",
    "                # use the center (x, y)-coordinates to derive the top and\n",
    "                # and left corner of the bounding box\n",
    "                x = int(centerX - (width / 2))\n",
    "                y = int(centerY - (height / 2))\n",
    "                # update our list of bounding box coordinates, confidences,\n",
    "                # and class IDs\n",
    "                boxes.append([x, y, int(width), int(height)])\n",
    "                confidences.append(float(confidence))\n",
    "                class_ids.append(class_id)\n",
    "        # perform the non maximum suppression given the scores defined before\n",
    "        idxs = cv2.dnn.NMSBoxes(boxes, confidences, SCORE_THRESHOLD, IOU_THRESHOLD)\n",
    "        # ensure at least one detection exists\n",
    "        if len(idxs) > 0:\n",
    "            # loop over the indexes we are keeping\n",
    "            for i in idxs.flatten():\n",
    "                # extract the bounding box coordinates\n",
    "                x, y = boxes[i][0], boxes[i][1]\n",
    "                w, h = boxes[i][2], boxes[i][3]\n",
    "                # draw a bounding box rectangle and label on the image\n",
    "                color = [int(c) for c in colors[class_ids[i]]]\n",
    "                cv2.rectangle(image, (x, y), (x + w, y + h), color=color, thickness=thickness)\n",
    "                text = f\"{labels[class_ids[i]]}: {confidences[i]:.2f}\"\n",
    "                # calculate text width & height to draw the transparent boxes as background of the text\n",
    "                (text_width, text_height) = cv2.getTextSize(text, cv2.FONT_HERSHEY_SIMPLEX, fontScale=font_scale, thickness=thickness)[0]\n",
    "                text_offset_x = x\n",
    "                text_offset_y = y - 5\n",
    "                box_coords = ((text_offset_x, text_offset_y), (text_offset_x + text_width + 2, text_offset_y - text_height))\n",
    "                overlay = image.copy()\n",
    "                cv2.rectangle(overlay, box_coords[0], box_coords[1], color=color, thickness=cv2.FILLED)\n",
    "                # add opacity (transparency to the box)\n",
    "                image = cv2.addWeighted(overlay, 0.6, image, 0.4, 0)\n",
    "                # now put the text (label: confidence %)\n",
    "                cv2.putText(image, text, (x, y - 5), cv2.FONT_HERSHEY_SIMPLEX,\n",
    "                    fontScale=font_scale, color=(0, 0, 0), thickness=thickness)\n",
    "        \n",
    "#         cv2.imwrite(''+filename + \"_yolo3.\" + ext, image)\n",
    "        cv2.imwrite(os.path.join('/media/sagar/HDD1/IIIT_PGSSP/CV/Project/MY_OBJ_DETECTION_Y/object-detection-opencv-master/object_detected/' , filename + \"_yolo3.\" + ext), image)\n",
    "        cv2.waitKey(0)\n"
   ]
  },
  {
   "cell_type": "code",
   "execution_count": null,
   "metadata": {},
   "outputs": [],
   "source": [
    "path_name = \"/media/sagar/HDD1/IIIT_PGSSP/CV/Project/MY_OBJ_DETECTION_Y/object-detection-opencv-master/img_5001.png\"\n",
    "image = cv2.imread(path_name)\n",
    "file_name = os.path.basename(path_name)\n",
    "filename, ext = file_name.split(\".\")"
   ]
  }
 ],
 "metadata": {
  "kernelspec": {
   "display_name": "sagar",
   "language": "python",
   "name": "sagar"
  },
  "language_info": {
   "codemirror_mode": {
    "name": "ipython",
    "version": 3
   },
   "file_extension": ".py",
   "mimetype": "text/x-python",
   "name": "python",
   "nbconvert_exporter": "python",
   "pygments_lexer": "ipython3",
   "version": "3.6.8"
  }
 },
 "nbformat": 4,
 "nbformat_minor": 2
}
